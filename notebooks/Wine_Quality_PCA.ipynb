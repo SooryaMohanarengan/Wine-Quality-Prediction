{
  "cells": [
    {
      "cell_type": "markdown",
      "metadata": {
        "id": "YdmwmC9SxMJ-"
      },
      "source": [
        "# Wine Quality - Principal Component Analysis"
      ]
    },
    {
      "cell_type": "markdown",
      "metadata": {
        "id": "wzSR7KXixMKA"
      },
      "source": [
        "## Introduction\n",
        "\n",
        "Principal Component Analysis (PCA) is a dimensionality reduction technique that transforms a set of possibly correlated features into a smaller number of uncorrelated components, called principal components. Each component is a linear combination of the original features and captures the maximum possible variance in the data.\n",
        "\n",
        "In this project, PCA helps by:\n",
        "\n",
        "Reducing multicollinearity between highly correlated features (e.g., residual sugar, density, alcohol).\n",
        "\n",
        "Simplifying the dataset while retaining most of the important variance.\n",
        "\n",
        "Improving model performance and interpretability, especially for linear regression models that are sensitive to correlated predictors.\n",
        "\n",
        "By projecting the data into fewer dimensions, PCA allows us to test whether regression models can achieve similar or better predictive performance with a smaller set of features."
      ]
    },
    {
      "cell_type": "code",
      "execution_count": 3,
      "metadata": {
        "id": "TwPktJ6HxMKA"
      },
      "outputs": [],
      "source": [
        "### Load relevant packages\n",
        "import pandas                  as pd\n",
        "import numpy                   as np\n",
        "import matplotlib.pyplot       as plt\n",
        "import statsmodels.api         as sm\n",
        "from sklearn.decomposition     import PCA\n",
        "from sklearn                   import preprocessing\n",
        "from sklearn.preprocessing     import StandardScaler\n",
        "from sklearn.linear_model      import LinearRegression\n",
        "from sklearn.model_selection   import train_test_split\n",
        "from sklearn.metrics           import mean_squared_error, r2_score, mean_absolute_error"
      ]
    },
    {
      "cell_type": "markdown",
      "metadata": {
        "id": "mZXCrLLxxMKB"
      },
      "source": [
        "## Load the dataset"
      ]
    },
    {
      "cell_type": "code",
      "execution_count": 4,
      "metadata": {
        "id": "pa984APNxMKB",
        "colab": {
          "base_uri": "https://localhost:8080/"
        },
        "outputId": "6a719843-9939-4e8d-d937-fded8afeba1b"
      },
      "outputs": [
        {
          "output_type": "stream",
          "name": "stdout",
          "text": [
            "Mounted at /content/drive\n"
          ]
        }
      ],
      "source": [
        "wine_quality = pd.read_csv(\"../data/winequality-white.csv\",sep=';')\n",
        "# Step for converting white space in columns to _ value for better handling\n",
        "wine_quality.rename(columns=lambda x: x.replace(\" \", \"_\"), inplace=True)"
      ]
    },
    {
      "cell_type": "code",
      "execution_count": 7,
      "metadata": {
        "id": "zaVcEGraxMKC",
        "outputId": "470e796e-3aa3-4973-b8b3-7fa32017a31c",
        "colab": {
          "base_uri": "https://localhost:8080/",
          "height": 206
        }
      },
      "outputs": [
        {
          "output_type": "execute_result",
          "data": {
            "text/plain": [
              "   fixed_acidity  volatile_acidity  citric_acid  residual_sugar  chlorides  \\\n",
              "0            7.0              0.27         0.36            20.7      0.045   \n",
              "1            6.3              0.30         0.34             1.6      0.049   \n",
              "2            8.1              0.28         0.40             6.9      0.050   \n",
              "3            7.2              0.23         0.32             8.5      0.058   \n",
              "4            7.2              0.23         0.32             8.5      0.058   \n",
              "\n",
              "   free_sulfur_dioxide  total_sulfur_dioxide  density    pH  sulphates  \\\n",
              "0                 45.0                 170.0   1.0010  3.00       0.45   \n",
              "1                 14.0                 132.0   0.9940  3.30       0.49   \n",
              "2                 30.0                  97.0   0.9951  3.26       0.44   \n",
              "3                 47.0                 186.0   0.9956  3.19       0.40   \n",
              "4                 47.0                 186.0   0.9956  3.19       0.40   \n",
              "\n",
              "   alcohol  quality  \n",
              "0      8.8        6  \n",
              "1      9.5        6  \n",
              "2     10.1        6  \n",
              "3      9.9        6  \n",
              "4      9.9        6  "
            ],
            "text/html": [
              "\n",
              "  <div id=\"df-b50d7378-1eba-465b-854a-8ab49f1ebde3\" class=\"colab-df-container\">\n",
              "    <div>\n",
              "<style scoped>\n",
              "    .dataframe tbody tr th:only-of-type {\n",
              "        vertical-align: middle;\n",
              "    }\n",
              "\n",
              "    .dataframe tbody tr th {\n",
              "        vertical-align: top;\n",
              "    }\n",
              "\n",
              "    .dataframe thead th {\n",
              "        text-align: right;\n",
              "    }\n",
              "</style>\n",
              "<table border=\"1\" class=\"dataframe\">\n",
              "  <thead>\n",
              "    <tr style=\"text-align: right;\">\n",
              "      <th></th>\n",
              "      <th>fixed_acidity</th>\n",
              "      <th>volatile_acidity</th>\n",
              "      <th>citric_acid</th>\n",
              "      <th>residual_sugar</th>\n",
              "      <th>chlorides</th>\n",
              "      <th>free_sulfur_dioxide</th>\n",
              "      <th>total_sulfur_dioxide</th>\n",
              "      <th>density</th>\n",
              "      <th>pH</th>\n",
              "      <th>sulphates</th>\n",
              "      <th>alcohol</th>\n",
              "      <th>quality</th>\n",
              "    </tr>\n",
              "  </thead>\n",
              "  <tbody>\n",
              "    <tr>\n",
              "      <th>0</th>\n",
              "      <td>7.0</td>\n",
              "      <td>0.27</td>\n",
              "      <td>0.36</td>\n",
              "      <td>20.7</td>\n",
              "      <td>0.045</td>\n",
              "      <td>45.0</td>\n",
              "      <td>170.0</td>\n",
              "      <td>1.0010</td>\n",
              "      <td>3.00</td>\n",
              "      <td>0.45</td>\n",
              "      <td>8.8</td>\n",
              "      <td>6</td>\n",
              "    </tr>\n",
              "    <tr>\n",
              "      <th>1</th>\n",
              "      <td>6.3</td>\n",
              "      <td>0.30</td>\n",
              "      <td>0.34</td>\n",
              "      <td>1.6</td>\n",
              "      <td>0.049</td>\n",
              "      <td>14.0</td>\n",
              "      <td>132.0</td>\n",
              "      <td>0.9940</td>\n",
              "      <td>3.30</td>\n",
              "      <td>0.49</td>\n",
              "      <td>9.5</td>\n",
              "      <td>6</td>\n",
              "    </tr>\n",
              "    <tr>\n",
              "      <th>2</th>\n",
              "      <td>8.1</td>\n",
              "      <td>0.28</td>\n",
              "      <td>0.40</td>\n",
              "      <td>6.9</td>\n",
              "      <td>0.050</td>\n",
              "      <td>30.0</td>\n",
              "      <td>97.0</td>\n",
              "      <td>0.9951</td>\n",
              "      <td>3.26</td>\n",
              "      <td>0.44</td>\n",
              "      <td>10.1</td>\n",
              "      <td>6</td>\n",
              "    </tr>\n",
              "    <tr>\n",
              "      <th>3</th>\n",
              "      <td>7.2</td>\n",
              "      <td>0.23</td>\n",
              "      <td>0.32</td>\n",
              "      <td>8.5</td>\n",
              "      <td>0.058</td>\n",
              "      <td>47.0</td>\n",
              "      <td>186.0</td>\n",
              "      <td>0.9956</td>\n",
              "      <td>3.19</td>\n",
              "      <td>0.40</td>\n",
              "      <td>9.9</td>\n",
              "      <td>6</td>\n",
              "    </tr>\n",
              "    <tr>\n",
              "      <th>4</th>\n",
              "      <td>7.2</td>\n",
              "      <td>0.23</td>\n",
              "      <td>0.32</td>\n",
              "      <td>8.5</td>\n",
              "      <td>0.058</td>\n",
              "      <td>47.0</td>\n",
              "      <td>186.0</td>\n",
              "      <td>0.9956</td>\n",
              "      <td>3.19</td>\n",
              "      <td>0.40</td>\n",
              "      <td>9.9</td>\n",
              "      <td>6</td>\n",
              "    </tr>\n",
              "  </tbody>\n",
              "</table>\n",
              "</div>\n",
              "    <div class=\"colab-df-buttons\">\n",
              "\n",
              "  <div class=\"colab-df-container\">\n",
              "    <button class=\"colab-df-convert\" onclick=\"convertToInteractive('df-b50d7378-1eba-465b-854a-8ab49f1ebde3')\"\n",
              "            title=\"Convert this dataframe to an interactive table.\"\n",
              "            style=\"display:none;\">\n",
              "\n",
              "  <svg xmlns=\"http://www.w3.org/2000/svg\" height=\"24px\" viewBox=\"0 -960 960 960\">\n",
              "    <path d=\"M120-120v-720h720v720H120Zm60-500h600v-160H180v160Zm220 220h160v-160H400v160Zm0 220h160v-160H400v160ZM180-400h160v-160H180v160Zm440 0h160v-160H620v160ZM180-180h160v-160H180v160Zm440 0h160v-160H620v160Z\"/>\n",
              "  </svg>\n",
              "    </button>\n",
              "\n",
              "  <style>\n",
              "    .colab-df-container {\n",
              "      display:flex;\n",
              "      gap: 12px;\n",
              "    }\n",
              "\n",
              "    .colab-df-convert {\n",
              "      background-color: #E8F0FE;\n",
              "      border: none;\n",
              "      border-radius: 50%;\n",
              "      cursor: pointer;\n",
              "      display: none;\n",
              "      fill: #1967D2;\n",
              "      height: 32px;\n",
              "      padding: 0 0 0 0;\n",
              "      width: 32px;\n",
              "    }\n",
              "\n",
              "    .colab-df-convert:hover {\n",
              "      background-color: #E2EBFA;\n",
              "      box-shadow: 0px 1px 2px rgba(60, 64, 67, 0.3), 0px 1px 3px 1px rgba(60, 64, 67, 0.15);\n",
              "      fill: #174EA6;\n",
              "    }\n",
              "\n",
              "    .colab-df-buttons div {\n",
              "      margin-bottom: 4px;\n",
              "    }\n",
              "\n",
              "    [theme=dark] .colab-df-convert {\n",
              "      background-color: #3B4455;\n",
              "      fill: #D2E3FC;\n",
              "    }\n",
              "\n",
              "    [theme=dark] .colab-df-convert:hover {\n",
              "      background-color: #434B5C;\n",
              "      box-shadow: 0px 1px 3px 1px rgba(0, 0, 0, 0.15);\n",
              "      filter: drop-shadow(0px 1px 2px rgba(0, 0, 0, 0.3));\n",
              "      fill: #FFFFFF;\n",
              "    }\n",
              "  </style>\n",
              "\n",
              "    <script>\n",
              "      const buttonEl =\n",
              "        document.querySelector('#df-b50d7378-1eba-465b-854a-8ab49f1ebde3 button.colab-df-convert');\n",
              "      buttonEl.style.display =\n",
              "        google.colab.kernel.accessAllowed ? 'block' : 'none';\n",
              "\n",
              "      async function convertToInteractive(key) {\n",
              "        const element = document.querySelector('#df-b50d7378-1eba-465b-854a-8ab49f1ebde3');\n",
              "        const dataTable =\n",
              "          await google.colab.kernel.invokeFunction('convertToInteractive',\n",
              "                                                    [key], {});\n",
              "        if (!dataTable) return;\n",
              "\n",
              "        const docLinkHtml = 'Like what you see? Visit the ' +\n",
              "          '<a target=\"_blank\" href=https://colab.research.google.com/notebooks/data_table.ipynb>data table notebook</a>'\n",
              "          + ' to learn more about interactive tables.';\n",
              "        element.innerHTML = '';\n",
              "        dataTable['output_type'] = 'display_data';\n",
              "        await google.colab.output.renderOutput(dataTable, element);\n",
              "        const docLink = document.createElement('div');\n",
              "        docLink.innerHTML = docLinkHtml;\n",
              "        element.appendChild(docLink);\n",
              "      }\n",
              "    </script>\n",
              "  </div>\n",
              "\n",
              "\n",
              "    <div id=\"df-9ea7cbd0-8a06-44f0-aa28-beb79bd362e0\">\n",
              "      <button class=\"colab-df-quickchart\" onclick=\"quickchart('df-9ea7cbd0-8a06-44f0-aa28-beb79bd362e0')\"\n",
              "                title=\"Suggest charts\"\n",
              "                style=\"display:none;\">\n",
              "\n",
              "<svg xmlns=\"http://www.w3.org/2000/svg\" height=\"24px\"viewBox=\"0 0 24 24\"\n",
              "     width=\"24px\">\n",
              "    <g>\n",
              "        <path d=\"M19 3H5c-1.1 0-2 .9-2 2v14c0 1.1.9 2 2 2h14c1.1 0 2-.9 2-2V5c0-1.1-.9-2-2-2zM9 17H7v-7h2v7zm4 0h-2V7h2v10zm4 0h-2v-4h2v4z\"/>\n",
              "    </g>\n",
              "</svg>\n",
              "      </button>\n",
              "\n",
              "<style>\n",
              "  .colab-df-quickchart {\n",
              "      --bg-color: #E8F0FE;\n",
              "      --fill-color: #1967D2;\n",
              "      --hover-bg-color: #E2EBFA;\n",
              "      --hover-fill-color: #174EA6;\n",
              "      --disabled-fill-color: #AAA;\n",
              "      --disabled-bg-color: #DDD;\n",
              "  }\n",
              "\n",
              "  [theme=dark] .colab-df-quickchart {\n",
              "      --bg-color: #3B4455;\n",
              "      --fill-color: #D2E3FC;\n",
              "      --hover-bg-color: #434B5C;\n",
              "      --hover-fill-color: #FFFFFF;\n",
              "      --disabled-bg-color: #3B4455;\n",
              "      --disabled-fill-color: #666;\n",
              "  }\n",
              "\n",
              "  .colab-df-quickchart {\n",
              "    background-color: var(--bg-color);\n",
              "    border: none;\n",
              "    border-radius: 50%;\n",
              "    cursor: pointer;\n",
              "    display: none;\n",
              "    fill: var(--fill-color);\n",
              "    height: 32px;\n",
              "    padding: 0;\n",
              "    width: 32px;\n",
              "  }\n",
              "\n",
              "  .colab-df-quickchart:hover {\n",
              "    background-color: var(--hover-bg-color);\n",
              "    box-shadow: 0 1px 2px rgba(60, 64, 67, 0.3), 0 1px 3px 1px rgba(60, 64, 67, 0.15);\n",
              "    fill: var(--button-hover-fill-color);\n",
              "  }\n",
              "\n",
              "  .colab-df-quickchart-complete:disabled,\n",
              "  .colab-df-quickchart-complete:disabled:hover {\n",
              "    background-color: var(--disabled-bg-color);\n",
              "    fill: var(--disabled-fill-color);\n",
              "    box-shadow: none;\n",
              "  }\n",
              "\n",
              "  .colab-df-spinner {\n",
              "    border: 2px solid var(--fill-color);\n",
              "    border-color: transparent;\n",
              "    border-bottom-color: var(--fill-color);\n",
              "    animation:\n",
              "      spin 1s steps(1) infinite;\n",
              "  }\n",
              "\n",
              "  @keyframes spin {\n",
              "    0% {\n",
              "      border-color: transparent;\n",
              "      border-bottom-color: var(--fill-color);\n",
              "      border-left-color: var(--fill-color);\n",
              "    }\n",
              "    20% {\n",
              "      border-color: transparent;\n",
              "      border-left-color: var(--fill-color);\n",
              "      border-top-color: var(--fill-color);\n",
              "    }\n",
              "    30% {\n",
              "      border-color: transparent;\n",
              "      border-left-color: var(--fill-color);\n",
              "      border-top-color: var(--fill-color);\n",
              "      border-right-color: var(--fill-color);\n",
              "    }\n",
              "    40% {\n",
              "      border-color: transparent;\n",
              "      border-right-color: var(--fill-color);\n",
              "      border-top-color: var(--fill-color);\n",
              "    }\n",
              "    60% {\n",
              "      border-color: transparent;\n",
              "      border-right-color: var(--fill-color);\n",
              "    }\n",
              "    80% {\n",
              "      border-color: transparent;\n",
              "      border-right-color: var(--fill-color);\n",
              "      border-bottom-color: var(--fill-color);\n",
              "    }\n",
              "    90% {\n",
              "      border-color: transparent;\n",
              "      border-bottom-color: var(--fill-color);\n",
              "    }\n",
              "  }\n",
              "</style>\n",
              "\n",
              "      <script>\n",
              "        async function quickchart(key) {\n",
              "          const quickchartButtonEl =\n",
              "            document.querySelector('#' + key + ' button');\n",
              "          quickchartButtonEl.disabled = true;  // To prevent multiple clicks.\n",
              "          quickchartButtonEl.classList.add('colab-df-spinner');\n",
              "          try {\n",
              "            const charts = await google.colab.kernel.invokeFunction(\n",
              "                'suggestCharts', [key], {});\n",
              "          } catch (error) {\n",
              "            console.error('Error during call to suggestCharts:', error);\n",
              "          }\n",
              "          quickchartButtonEl.classList.remove('colab-df-spinner');\n",
              "          quickchartButtonEl.classList.add('colab-df-quickchart-complete');\n",
              "        }\n",
              "        (() => {\n",
              "          let quickchartButtonEl =\n",
              "            document.querySelector('#df-9ea7cbd0-8a06-44f0-aa28-beb79bd362e0 button');\n",
              "          quickchartButtonEl.style.display =\n",
              "            google.colab.kernel.accessAllowed ? 'block' : 'none';\n",
              "        })();\n",
              "      </script>\n",
              "    </div>\n",
              "\n",
              "    </div>\n",
              "  </div>\n"
            ],
            "application/vnd.google.colaboratory.intrinsic+json": {
              "type": "dataframe",
              "variable_name": "wine_quality",
              "summary": "{\n  \"name\": \"wine_quality\",\n  \"rows\": 4898,\n  \"fields\": [\n    {\n      \"column\": \"fixed_acidity\",\n      \"properties\": {\n        \"dtype\": \"number\",\n        \"std\": 0.8438682276875188,\n        \"min\": 3.8,\n        \"max\": 14.2,\n        \"num_unique_values\": 68,\n        \"samples\": [\n          10.3,\n          5.8,\n          6.2\n        ],\n        \"semantic_type\": \"\",\n        \"description\": \"\"\n      }\n    },\n    {\n      \"column\": \"volatile_acidity\",\n      \"properties\": {\n        \"dtype\": \"number\",\n        \"std\": 0.10079454842486428,\n        \"min\": 0.08,\n        \"max\": 1.1,\n        \"num_unique_values\": 125,\n        \"samples\": [\n          0.14,\n          0.595,\n          0.13\n        ],\n        \"semantic_type\": \"\",\n        \"description\": \"\"\n      }\n    },\n    {\n      \"column\": \"citric_acid\",\n      \"properties\": {\n        \"dtype\": \"number\",\n        \"std\": 0.12101980420298301,\n        \"min\": 0.0,\n        \"max\": 1.66,\n        \"num_unique_values\": 87,\n        \"samples\": [\n          0.64,\n          0.36,\n          0.24\n        ],\n        \"semantic_type\": \"\",\n        \"description\": \"\"\n      }\n    },\n    {\n      \"column\": \"residual_sugar\",\n      \"properties\": {\n        \"dtype\": \"number\",\n        \"std\": 5.072057784014864,\n        \"min\": 0.6,\n        \"max\": 65.8,\n        \"num_unique_values\": 310,\n        \"samples\": [\n          15.5,\n          19.25,\n          3.3\n        ],\n        \"semantic_type\": \"\",\n        \"description\": \"\"\n      }\n    },\n    {\n      \"column\": \"chlorides\",\n      \"properties\": {\n        \"dtype\": \"number\",\n        \"std\": 0.02184796809372882,\n        \"min\": 0.009,\n        \"max\": 0.346,\n        \"num_unique_values\": 160,\n        \"samples\": [\n          0.167,\n          0.133,\n          0.015\n        ],\n        \"semantic_type\": \"\",\n        \"description\": \"\"\n      }\n    },\n    {\n      \"column\": \"free_sulfur_dioxide\",\n      \"properties\": {\n        \"dtype\": \"number\",\n        \"std\": 17.007137325232566,\n        \"min\": 2.0,\n        \"max\": 289.0,\n        \"num_unique_values\": 132,\n        \"samples\": [\n          24.0,\n          122.5,\n          7.0\n        ],\n        \"semantic_type\": \"\",\n        \"description\": \"\"\n      }\n    },\n    {\n      \"column\": \"total_sulfur_dioxide\",\n      \"properties\": {\n        \"dtype\": \"number\",\n        \"std\": 42.49806455414294,\n        \"min\": 9.0,\n        \"max\": 440.0,\n        \"num_unique_values\": 251,\n        \"samples\": [\n          260.0,\n          63.0,\n          70.0\n        ],\n        \"semantic_type\": \"\",\n        \"description\": \"\"\n      }\n    },\n    {\n      \"column\": \"density\",\n      \"properties\": {\n        \"dtype\": \"number\",\n        \"std\": 0.0029909069169369354,\n        \"min\": 0.98711,\n        \"max\": 1.03898,\n        \"num_unique_values\": 890,\n        \"samples\": [\n          0.99362,\n          0.99388,\n          0.9929\n        ],\n        \"semantic_type\": \"\",\n        \"description\": \"\"\n      }\n    },\n    {\n      \"column\": \"pH\",\n      \"properties\": {\n        \"dtype\": \"number\",\n        \"std\": 0.1510005996150667,\n        \"min\": 2.72,\n        \"max\": 3.82,\n        \"num_unique_values\": 103,\n        \"samples\": [\n          3.34,\n          3.41,\n          3.49\n        ],\n        \"semantic_type\": \"\",\n        \"description\": \"\"\n      }\n    },\n    {\n      \"column\": \"sulphates\",\n      \"properties\": {\n        \"dtype\": \"number\",\n        \"std\": 0.11412583394883138,\n        \"min\": 0.22,\n        \"max\": 1.08,\n        \"num_unique_values\": 79,\n        \"samples\": [\n          0.41,\n          0.45,\n          0.46\n        ],\n        \"semantic_type\": \"\",\n        \"description\": \"\"\n      }\n    },\n    {\n      \"column\": \"alcohol\",\n      \"properties\": {\n        \"dtype\": \"number\",\n        \"std\": 1.2306205677573183,\n        \"min\": 8.0,\n        \"max\": 14.2,\n        \"num_unique_values\": 103,\n        \"samples\": [\n          12.6,\n          11.3666666666667,\n          10.0333333333333\n        ],\n        \"semantic_type\": \"\",\n        \"description\": \"\"\n      }\n    },\n    {\n      \"column\": \"quality\",\n      \"properties\": {\n        \"dtype\": \"number\",\n        \"std\": 0,\n        \"min\": 3,\n        \"max\": 9,\n        \"num_unique_values\": 7,\n        \"samples\": [\n          6,\n          5,\n          3\n        ],\n        \"semantic_type\": \"\",\n        \"description\": \"\"\n      }\n    }\n  ]\n}"
            }
          },
          "metadata": {},
          "execution_count": 7
        }
      ],
      "source": [
        "wine_quality.head()"
      ]
    },
    {
      "cell_type": "markdown",
      "source": [
        "Scale the data to work better with PCA"
      ],
      "metadata": {
        "id": "XYchkt4GdNHl"
      }
    },
    {
      "cell_type": "code",
      "source": [
        "features = ['fixed_acidity',\n",
        "            'volatile_acidity',\n",
        "            'citric_acid',\n",
        "            'residual_sugar',\n",
        "            'chlorides',\n",
        "            'free_sulfur_dioxide',\n",
        "            'total_sulfur_dioxide',\n",
        "            'density',\n",
        "            'pH',\n",
        "            'sulphates',\n",
        "            'alcohol']\n",
        "\n",
        "X = wine_quality.loc[:, features].values\n",
        "\n",
        "y = wine_quality.loc[:, ['quality']].values\n",
        "\n",
        "X = StandardScaler().fit_transform(X)"
      ],
      "metadata": {
        "id": "5a66H_yBdFXv"
      },
      "execution_count": 8,
      "outputs": []
    },
    {
      "cell_type": "markdown",
      "source": [
        "Split the dataset"
      ],
      "metadata": {
        "id": "PzN395byeXF4"
      }
    },
    {
      "cell_type": "code",
      "source": [
        "# Split the dataset\n",
        "X_train, X_test, y_train, y_test = train_test_split(X, y, test_size=0.3, stratify=y, random_state=42)"
      ],
      "metadata": {
        "id": "2t6uPUB2eaGj"
      },
      "execution_count": 9,
      "outputs": []
    },
    {
      "cell_type": "markdown",
      "source": [
        "Choosing the number of Principal Components"
      ],
      "metadata": {
        "id": "pgB2q5tNegCq"
      }
    },
    {
      "cell_type": "code",
      "source": [
        "# Fit PCA with all components\n",
        "pca = PCA(n_components=None, random_state=42)\n",
        "pca.fit(X_train)\n",
        "\n",
        "# Explained variance for each PC\n",
        "evr = pca.explained_variance_ratio_\n",
        "\n",
        "# Cumulative explained variance\n",
        "cum_evr = np.cumsum(evr)\n",
        "\n",
        "# Plot\n",
        "plt.figure(figsize=(8,5))\n",
        "plt.plot(range(1, len(evr)+1), cum_evr, marker='o', linestyle='--', color='b', label='Cumulative Explained Variance')\n",
        "plt.bar(range(1, len(evr)+1), evr, alpha=0.5, align='center', label='Individual Explained Variance')\n",
        "\n",
        "plt.xlabel(\"Number of Principal Components\")\n",
        "plt.ylabel(\"Explained Variance Ratio\")\n",
        "plt.title(\"PCA Scree Plot\")\n",
        "plt.xticks(range(1, len(evr)+1))\n",
        "plt.legend()\n",
        "plt.grid(True, linestyle='--', alpha=0.6)\n",
        "plt.tight_layout()\n",
        "plt.show()"
      ],
      "metadata": {
        "colab": {
          "base_uri": "https://localhost:8080/",
          "height": 507
        },
        "id": "jaMJFsqtefl4",
        "outputId": "fdd91a75-0597-49d0-e76b-c75e6117638c"
      },
      "execution_count": 11,
      "outputs": [
        {
          "output_type": "display_data",
          "data": {
            "text/plain": [
              "<Figure size 800x500 with 1 Axes>"
            ],
            "image/png": "[encoded data removed]"
          },
          "metadata": {}
        }
      ]
    },
    {
      "cell_type": "markdown",
      "source": [
        "*Interpretation*\n",
        "\n",
        "Bars (light blue) → Individual Explained Variance\n",
        "\n",
        "Each bar represents how much variance a single principal component explains.\n",
        "\n",
        "PC1 explains ~30% of variance, PC2 ~14%, PC3 ~11%, etc.\n",
        "\n",
        "After the first few components, each one contributes less and less variance.\n",
        "\n",
        "---\n",
        "\n",
        "*Blue Line (dashed with dots) → Cumulative Explained Variance*\n",
        "\n",
        "Shows how much total variance is explained as you add more components.\n",
        "\n",
        "Starts at ~30% with PC1, ~55% by PC3, ~80% by PC6, and ~95% by PC8.\n",
        "\n",
        "By PC10–11, nearly 100% variance is captured.\n",
        "\n",
        "---\n",
        "\n",
        "*The “Elbow” Point*\n",
        "\n",
        "Scree plots are read by looking for the “elbow” (point of diminishing returns).\n",
        "\n",
        "In this plot, the elbow is around PC5–6: after that, adding more components increases variance explained only slightly."
      ],
      "metadata": {
        "id": "46kMoFlZhu3j"
      }
    },
    {
      "cell_type": "markdown",
      "source": [
        "According to Dangeti (2017), there are two common methods to determine the appropriate number of principal components:\n",
        "\n",
        "Method 1: Choose the number of PCs based on the point of diminishing marginal improvement in variance explained (the “elbow method”).\n",
        "\n",
        "Method 2: Choose the number of PCs such that the cumulative variance explained exceeds 80%.\n",
        "\n",
        "From the scree plot above, we observe that the cumulative variance explained surpasses 80% when using 6 principal components. Method 1 is less suitable in this case, since the improvement in variance explained decreases gradually and no clear elbow point is observed."
      ],
      "metadata": {
        "id": "bkhXAnXMjWZD"
      }
    },
    {
      "cell_type": "markdown",
      "source": [
        "PCA + OLS Regression Model"
      ],
      "metadata": {
        "id": "b4dUc0ntkz-o"
      }
    },
    {
      "cell_type": "code",
      "source": [
        "# --- Step 1: Apply PCA with n=6 on scaled training data ---\n",
        "pca = PCA(n_components=6, random_state=42)\n",
        "X_train_pca = pca.fit_transform(X_train)\n",
        "X_test_pca = pca.transform(X_test)\n",
        "\n",
        "# --- Step 2: Add constant term for OLS (intercept) ---\n",
        "X_train_pca_const = sm.add_constant(X_train_pca)\n",
        "X_test_pca_const = sm.add_constant(X_test_pca)\n",
        "\n",
        "# --- Step 3: Fit OLS model ---\n",
        "ols_model = sm.OLS(y_train, X_train_pca_const).fit()\n",
        "\n",
        "# --- Step 4: Make predictions ---\n",
        "y_pred = ols_model.predict(X_test_pca_const)\n",
        "\n",
        "# --- Step 5: Evaluate model ---\n",
        "mse = mean_squared_error(y_test, y_pred)\n",
        "r2 = r2_score(y_test, y_pred)\n",
        "mae = mean_absolute_error(y_test,y_pred)\n",
        "y_avg = y.mean()\n",
        "\n",
        "print(\"OLS Regression Results with PCA (n=6):\")\n",
        "print(ols_model.summary())\n",
        "print(\"\\ny average:\", y_avg)\n",
        "print(\"Mean Squared Error (MSE):\", mse)\n",
        "print(\"SQRT MSE:\", np.sqrt(mse))\n",
        "print(\"Mean Absolute Error (MAE):\", mae)\n",
        "print(\"R-squared (R²):\", r2)"
      ],
      "metadata": {
        "colab": {
          "base_uri": "https://localhost:8080/"
        },
        "id": "yIiZgKxKjVGP",
        "outputId": "dfe309f8-7c17-4fb3-be3b-e74484407fa4"
      },
      "execution_count": 14,
      "outputs": [
        {
          "output_type": "stream",
          "name": "stdout",
          "text": [
            "OLS Regression Results with PCA (n=6):\n",
            "                            OLS Regression Results                            \n",
            "==============================================================================\n",
            "Dep. Variable:                      y   R-squared:                       0.180\n",
            "Model:                            OLS   Adj. R-squared:                  0.179\n",
            "Method:                 Least Squares   F-statistic:                     125.3\n",
            "Date:                Sat, 06 Sep 2025   Prob (F-statistic):          1.34e-143\n",
            "Time:                        19:55:02   Log-Likelihood:                -4108.8\n",
            "No. Observations:                3428   AIC:                             8232.\n",
            "Df Residuals:                    3421   BIC:                             8275.\n",
            "Df Model:                           6                                         \n",
            "Covariance Type:            nonrobust                                         \n",
            "==============================================================================\n",
            "                 coef    std err          t      P>|t|      [0.025      0.975]\n",
            "------------------------------------------------------------------------------\n",
            "const          5.8781      0.014    428.552      0.000       5.851       5.905\n",
            "x1            -0.1455      0.008    -19.161      0.000      -0.160      -0.131\n",
            "x2            -0.0266      0.011     -2.439      0.015      -0.048      -0.005\n",
            "x3            -0.1717      0.012    -13.764      0.000      -0.196      -0.147\n",
            "x4            -0.1686      0.014    -12.468      0.000      -0.195      -0.142\n",
            "x5            -0.0648      0.014     -4.650      0.000      -0.092      -0.037\n",
            "x6            -0.0488      0.014     -3.474      0.001      -0.076      -0.021\n",
            "==============================================================================\n",
            "Omnibus:                       56.363   Durbin-Watson:                   1.959\n",
            "Prob(Omnibus):                  0.000   Jarque-Bera (JB):               98.222\n",
            "Skew:                           0.111   Prob(JB):                     4.69e-22\n",
            "Kurtosis:                       3.799   Cond. No.                         1.85\n",
            "==============================================================================\n",
            "\n",
            "Notes:\n",
            "[1] Standard Errors assume that the covariance matrix of the errors is correctly specified.\n",
            "\n",
            "y average: 5.87790935075541\n",
            "Mean Squared Error (MSE): 0.6480298811778217\n",
            "SQRT MSE: 0.8050030317817577\n",
            "Mean Absolute Error (MAE): 0.6176781024352733\n",
            "R-squared (R²): 0.1716193593164177\n"
          ]
        }
      ]
    },
    {
      "cell_type": "markdown",
      "source": [
        "Model Diagnostics\n",
        "\n",
        "1. Checks target distribution.\n",
        "\n",
        "2. Inspects error distribution.\n",
        "\n",
        "3. Detects patterns/bias in residuals."
      ],
      "metadata": {
        "id": "90AkY6K6nJF6"
      }
    },
    {
      "cell_type": "code",
      "source": [
        "error = y_test.ravel() - y_pred.ravel()\n",
        "fig, axes = plt.subplots(1, 3, figsize=(12,4))\n",
        "\n",
        "#Distribution of Target (y)\n",
        "plt.subplot(1,3,1)\n",
        "plt.hist(y, bins=20)\n",
        "plt.xlabel(f\"y (min={min(y)} max={max(y)})\")\n",
        "plt.ylabel(\"frequency\")\n",
        "\n",
        "#Distribution of Errors (Residuals)\n",
        "plt.subplot(1,3,2)\n",
        "plt.hist(error, bins=20)\n",
        "plt.xlabel(f\"error (min={min(error):.2} max={max(error):.2})\")\n",
        "plt.ylabel(\"frequency\")\n",
        "\n",
        "#Residuals vs Actual Values\n",
        "plt.subplot(1,3,3)\n",
        "plt.scatter(y_test.ravel(), error)\n",
        "plt.xlabel(\"y_test\")\n",
        "plt.ylabel(\"error\")\n",
        "plt.axhline(y=0.0, color='r', linestyle='dashed')\n",
        "plt.show()"
      ],
      "metadata": {
        "colab": {
          "base_uri": "https://localhost:8080/",
          "height": 388
        },
        "id": "RnQzVnMcnXb_",
        "outputId": "02a21bb7-3312-4f5e-b18b-135fe880d4dc"
      },
      "execution_count": 18,
      "outputs": [
        {
          "output_type": "display_data",
          "data": {
            "text/plain": [
              "<Figure size 1200x400 with 3 Axes>"
            ],
            "image/png": "[encoded data removed]"
          },
          "metadata": {}
        }
      ]
    },
    {
      "cell_type": "markdown",
      "source": [
        "The model learns the middle well (5–6) but struggles with extremes (low-quality and high-quality wines).\n",
        "\n",
        "This is a direct result of the class imbalance in the target variable.\n",
        "\n",
        "Errors are fairly symmetric, but the spread shows that predictions are not very sharp."
      ],
      "metadata": {
        "id": "cOV9e3AlssBb"
      }
    },
    {
      "cell_type": "markdown",
      "source": [
        "Applying Transformation"
      ],
      "metadata": {
        "id": "WERrRxj3tSKC"
      }
    },
    {
      "cell_type": "code",
      "source": [
        "# Make a copy of the existing dataset\n",
        "wine_quality_modified = wine_quality.copy()\n",
        "\n",
        "# Apply data transformation to correct skewness\n",
        "wine_quality_modified['fixed_acidity'] = np.log(wine_quality_modified['fixed_acidity'])\n",
        "wine_quality_modified['volatile_acidity'] = np.cbrt(wine_quality_modified['volatile_acidity'])\n",
        "wine_quality_modified['citric_acid'] = np.sqrt(wine_quality_modified['citric_acid'])\n",
        "wine_quality_modified['residual_sugar'] = np.cbrt(wine_quality_modified['residual_sugar'])\n",
        "wine_quality_modified['chlorides'] = np.cbrt(wine_quality_modified['chlorides'])\n",
        "wine_quality_modified['free_sulfur_dioxide'] = np.log(wine_quality_modified['free_sulfur_dioxide'])\n",
        "wine_quality_modified['total_sulfur_dioxide'] = np.sqrt(wine_quality_modified['total_sulfur_dioxide'])\n",
        "#wine_quality_modified.drop(columns=['density'], inplace=True) # Drop columns since data correction was not found. Also it displays high correlation with other two variables\n",
        "wine_quality_modified['pH'] = 1/np.sqrt(wine_quality_modified['pH'])\n",
        "wine_quality_modified['sulphates'] = 1/np.cbrt(wine_quality_modified['sulphates'])\n",
        "wine_quality_modified['alcohol'] = 1/(wine_quality_modified['alcohol'])"
      ],
      "metadata": {
        "id": "Ri11QAqesn9c"
      },
      "execution_count": 38,
      "outputs": []
    },
    {
      "cell_type": "code",
      "source": [
        "#density has been removed\n",
        "features = ['fixed_acidity',\n",
        "            'volatile_acidity',\n",
        "            'citric_acid',\n",
        "            'residual_sugar',\n",
        "            'chlorides',\n",
        "            'free_sulfur_dioxide',\n",
        "            'total_sulfur_dioxide',\n",
        "            'pH',\n",
        "            'sulphates',\n",
        "            'alcohol']\n",
        "\n",
        "X = wine_quality_modified.loc[:, features].values\n",
        "\n",
        "y = wine_quality_modified.loc[:, ['quality']].values\n",
        "\n",
        "X = StandardScaler().fit_transform(X)"
      ],
      "metadata": {
        "id": "_g0W7mc3tn8J"
      },
      "execution_count": 42,
      "outputs": []
    },
    {
      "cell_type": "markdown",
      "source": [
        "Split the dataset"
      ],
      "metadata": {
        "id": "IZOjSDPZsryy"
      }
    },
    {
      "cell_type": "code",
      "source": [
        "# Split the dataset\n",
        "X_train, X_test, y_train, y_test = train_test_split(X, y, test_size=0.3, stratify=y, random_state=42)"
      ],
      "metadata": {
        "id": "kfI_OxJdt3F9"
      },
      "execution_count": 45,
      "outputs": []
    },
    {
      "cell_type": "markdown",
      "source": [
        "Choosing the number of Principal Components after Transformation"
      ],
      "metadata": {
        "id": "BCiHk1MruMx2"
      }
    },
    {
      "cell_type": "code",
      "source": [
        "# Fit PCA with all components\n",
        "pca = PCA(n_components=None, random_state=42)\n",
        "pca.fit(X_train)\n",
        "\n",
        "# Explained variance for each PC\n",
        "evr = pca.explained_variance_ratio_\n",
        "\n",
        "# Cumulative explained variance\n",
        "cum_evr = np.cumsum(evr)\n",
        "\n",
        "# Plot\n",
        "plt.figure(figsize=(8,5))\n",
        "plt.plot(range(1, len(evr)+1), cum_evr, marker='o', linestyle='--', color='b', label='Cumulative Explained Variance')\n",
        "plt.bar(range(1, len(evr)+1), evr, alpha=0.5, align='center', label='Individual Explained Variance')\n",
        "\n",
        "plt.xlabel(\"Number of Principal Components\")\n",
        "plt.ylabel(\"Explained Variance Ratio\")\n",
        "plt.title(\"PCA Scree Plot\")\n",
        "plt.xticks(range(1, len(evr)+1))\n",
        "plt.legend()\n",
        "plt.grid(True, linestyle='--', alpha=0.6)\n",
        "plt.tight_layout()\n",
        "plt.show()"
      ],
      "metadata": {
        "colab": {
          "base_uri": "https://localhost:8080/",
          "height": 507
        },
        "id": "qkdlzDp4uXiY",
        "outputId": "227a7669-3aef-4f3f-f56d-fbba9c8cbd59"
      },
      "execution_count": 46,
      "outputs": [
        {
          "output_type": "display_data",
          "data": {
            "text/plain": [
              "<Figure size 800x500 with 1 Axes>"
            ],
            "image/png": "[encoded data removed]"
          },
          "metadata": {}
        }
      ]
    },
    {
      "cell_type": "markdown",
      "source": [
        "Even after transforming the data, using 6 Principal Components provides better explainability, capturing more than 80% of the total variance."
      ],
      "metadata": {
        "id": "HrH75TkBujwc"
      }
    },
    {
      "cell_type": "code",
      "source": [
        "# --- Step 1: Apply PCA with n=6 on scaled training data ---\n",
        "pca = PCA(n_components=6, random_state=42)\n",
        "X_train_pca = pca.fit_transform(X_train)\n",
        "X_test_pca = pca.transform(X_test)\n",
        "\n",
        "# --- Step 2: Add constant term for OLS (intercept) ---\n",
        "X_train_pca_const = sm.add_constant(X_train_pca)\n",
        "X_test_pca_const = sm.add_constant(X_test_pca)\n",
        "\n",
        "# --- Step 3: Fit OLS model ---\n",
        "ols_model = sm.OLS(y_train, X_train_pca_const).fit()\n",
        "\n",
        "# --- Step 4: Make predictions ---\n",
        "y_pred = ols_model.predict(X_test_pca_const)\n",
        "\n",
        "# --- Step 5: Evaluate model ---\n",
        "mse = mean_squared_error(y_test, y_pred)\n",
        "r2 = r2_score(y_test, y_pred)\n",
        "mae = mean_absolute_error(y_test,y_pred)\n",
        "y_avg = y.mean()\n",
        "\n",
        "print(\"OLS Regression Results with PCA (n=6):\")\n",
        "print(ols_model.summary())\n",
        "print(\"\\ny average:\", y_avg)\n",
        "print(\"Mean Squared Error (MSE):\", mse)\n",
        "print(\"SQRT MSE:\", np.sqrt(mse))\n",
        "print(\"Mean Absolute Error (MAE):\", mae)\n",
        "print(\"R-squared (R²):\", r2)"
      ],
      "metadata": {
        "colab": {
          "base_uri": "https://localhost:8080/"
        },
        "id": "ubA2JCGSxgTx",
        "outputId": "26de354d-e9ff-4cae-b9ff-7adfb8f93c6d"
      },
      "execution_count": 47,
      "outputs": [
        {
          "output_type": "stream",
          "name": "stdout",
          "text": [
            "OLS Regression Results with PCA (n=6):\n",
            "                            OLS Regression Results                            \n",
            "==============================================================================\n",
            "Dep. Variable:                      y   R-squared:                       0.210\n",
            "Model:                            OLS   Adj. R-squared:                  0.209\n",
            "Method:                 Least Squares   F-statistic:                     151.9\n",
            "Date:                Sat, 06 Sep 2025   Prob (F-statistic):          2.17e-171\n",
            "Time:                        20:44:39   Log-Likelihood:                -4044.4\n",
            "No. Observations:                3428   AIC:                             8103.\n",
            "Df Residuals:                    3421   BIC:                             8146.\n",
            "Df Model:                           6                                         \n",
            "Covariance Type:            nonrobust                                         \n",
            "==============================================================================\n",
            "                 coef    std err          t      P>|t|      [0.025      0.975]\n",
            "------------------------------------------------------------------------------\n",
            "const          5.8781      0.013    436.683      0.000       5.852       5.904\n",
            "x1            -0.1323      0.008    -15.788      0.000      -0.149      -0.116\n",
            "x2            -0.0250      0.011     -2.364      0.018      -0.046      -0.004\n",
            "x3            -0.1888      0.012    -15.600      0.000      -0.213      -0.165\n",
            "x4            -0.2640      0.013    -20.045      0.000      -0.290      -0.238\n",
            "x5             0.0454      0.014      3.286      0.001       0.018       0.072\n",
            "x6             0.0135      0.016      0.856      0.392      -0.017       0.044\n",
            "==============================================================================\n",
            "Omnibus:                       48.909   Durbin-Watson:                   1.961\n",
            "Prob(Omnibus):                  0.000   Jarque-Bera (JB):               75.347\n",
            "Skew:                           0.138   Prob(JB):                     4.35e-17\n",
            "Kurtosis:                       3.672   Cond. No.                         1.88\n",
            "==============================================================================\n",
            "\n",
            "Notes:\n",
            "[1] Standard Errors assume that the covariance matrix of the errors is correctly specified.\n",
            "\n",
            "y average: 5.87790935075541\n",
            "Mean Squared Error (MSE): 0.6293028989550555\n",
            "SQRT MSE: 0.793286139394264\n",
            "Mean Absolute Error (MAE): 0.6095757527633158\n",
            "R-squared (R²): 0.19555817754432014\n"
          ]
        }
      ]
    },
    {
      "cell_type": "markdown",
      "source": [
        "### Comparing results from Before and AFter Transformation of the dataset\n",
        "\n",
        "y average (≈ 5.88) → unchanged, as expected.\n",
        "\n",
        "MSE → decreased slightly (0.648 → 0.629) → better fit.\n",
        "\n",
        "RMSE → also improved (0.805 → 0.793) → predictions closer to true values on average.\n",
        "\n",
        "MAE → reduced (0.618 → 0.610) → smaller absolute deviations.\n",
        "\n",
        "R² → improved from 0.172 → 0.196, meaning the model now explains a slightly higher proportion of variance in wine quality."
      ],
      "metadata": {
        "id": "6HGkaHEwyL1k"
      }
    },
    {
      "cell_type": "markdown",
      "source": [
        "After applying transformations, the PCA + OLS regression model shows modest improvements across all performance metrics: MSE, RMSE, and MAE decrease, while R² increases. This indicates that the transformed features provide a slightly better explanatory fit compared to the original data."
      ],
      "metadata": {
        "id": "C7-xk31vyZfi"
      }
    }
  ],
  "metadata": {
    "kernelspec": {
      "display_name": "Python 3",
      "language": "python",
      "name": "python3"
    },
    "language_info": {
      "codemirror_mode": {
        "name": "ipython",
        "version": 3
      },
      "file_extension": ".py",
      "mimetype": "text/x-python",
      "name": "python",
      "nbconvert_exporter": "python",
      "pygments_lexer": "ipython3",
      "version": "3.10.11"
    },
    "colab": {
      "provenance": []
    }
  },
  "nbformat": 4,
  "nbformat_minor": 0
}